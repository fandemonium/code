{
 "cells": [
  {
   "cell_type": "code",
   "execution_count": 1,
   "id": "0d5eae87",
   "metadata": {},
   "outputs": [],
   "source": [
    "import os\n",
    "import pandas as pd\n",
    "import numpy as np\n",
    "import re\n",
    "\n",
    "\n",
    "import nltk\n",
    "# nltk.download('punkt')"
   ]
  },
  {
   "cell_type": "code",
   "execution_count": 2,
   "id": "943b30ce",
   "metadata": {},
   "outputs": [
    {
     "name": "stdout",
     "output_type": "stream",
     "text": [
      "501\n"
     ]
    }
   ],
   "source": [
    "l = []\n",
    "for lines in open(\"/Users/fan/Downloads/br67_txt.txt\",'rU'):\n",
    "    line = lines.strip()\n",
    "    res = re.findall(r'\\(.*?\\)', line)\n",
    "    for item in res:\n",
    "        ext = item.replace('(', '').replace(')', '')\n",
    "        if len(ext) > 0:\n",
    "            l.append(ext)\n",
    "#         if re.match('[1-2][?0?9][0-9]{2}', ext) and ' ' not in ext:\n",
    "#             print(line)\n",
    "print(len(l))\n",
    "# print(l)"
   ]
  },
  {
   "cell_type": "code",
   "execution_count": 38,
   "id": "c6cce13d",
   "metadata": {},
   "outputs": [
    {
     "name": "stdout",
     "output_type": "stream",
     "text": [
      "461\n"
     ]
    }
   ],
   "source": [
    "cited = []\n",
    "for items in l:\n",
    "    if 'http' not in items:\n",
    "        if ';' in items:\n",
    "            item = items.split('; ')\n",
    "            for ref in item:\n",
    "                if re.match(r'[A-Z][a-z].* [0-9]{4}$', ref):\n",
    "                    cited.append(ref)\n",
    "        elif re.match(r'[A-Z][a-z].* [0-9]{4}$', items):\n",
    "            cited.append(items)\n",
    "# print(cited)\n",
    "print(len(cited))\n",
    "\n",
    "cite_d = {}\n",
    "for n, i in enumerate(cited):\n",
    "    author = re.split(' |,', i)[0]\n",
    "    year = i.split(' ')[-1]\n",
    "    cite_d[i] = author + str(year)\n",
    "# print(cite_d)"
   ]
  },
  {
   "cell_type": "code",
   "execution_count": 33,
   "id": "ea14a551",
   "metadata": {},
   "outputs": [
    {
     "name": "stdout",
     "output_type": "stream",
     "text": [
      "310\n"
     ]
    }
   ],
   "source": [
    "bib_l = []\n",
    "with open('/Users/fan/Downloads/br67_ref.txt','r') as ref_f:\n",
    "    lines = ref_f.readlines()[1:]\n",
    "    for line in lines:\n",
    "        line = line.strip()\n",
    "        author = line.split(', ')[0]\n",
    "        year = re.findall('19[0-9]{2}|20[0-9]{2}', line)[0]\n",
    "        bib_l.append(author + str(year))\n",
    "print(len(bib_l))"
   ]
  },
  {
   "cell_type": "code",
   "execution_count": 37,
   "id": "286dfb2a",
   "metadata": {
    "scrolled": false
   },
   "outputs": [
    {
     "name": "stdout",
     "output_type": "stream",
     "text": [
      "Lowe and Eddy, 1997::Lowe1997\n",
      "Kobayashi et al. 2020::Kobayashi2020\n",
      "Green and Noller 1996::Green1996\n",
      "Wirunpan, Savedboworn and Wanchaitanawong 2016::Wirunpan2016\n",
      "King, Lin and Liu 1998::King1998\n",
      "Tang, 2016::Tang2016\n",
      "Roto, Kwon, and Ricke 2016::Roto2016\n",
      "National Research Council, Board on Agriculture, and Subcommittee on Poultry Nutrition 1994::National1994\n",
      "Lutful Kabir 2009::Lutful2009\n",
      "Yeo and Kim 1997::Yeo1997\n",
      "Karimi Torshizi et al. 2010::Karimi2010\n",
      "Cobb-Vantress, 2018::Cobb-Vantress2018\n",
      "Proietti et al. 2006::Proietti2006\n",
      "Bergman 1990::Bergman1990\n",
      "Cummings et al. 1987::Cummings1987\n",
      "Wiegel et al. 2006::Wiegel2006\n",
      "Ikeda et al. 1998::Ikeda1998\n",
      "Bedford and Gong 2018::Bedford2018\n",
      "Awad et al. 2016::Awad2016\n",
      "Noparat et al. 2011::Noparat2011\n",
      "Paul et al. 2021::Paul2021\n",
      "Fidler et al. 2020::Fidler2020\n",
      "Wang et al. 2018::Wang2018\n",
      "Fonesca et al. 2019::Fonesca2019\n",
      "Ostling and Lindgren. 1991::Ostling1991\n",
      "Fonesca et al. 2016::Fonesca2016\n",
      "Kuehne et al. 2019::Kuehne2019\n",
      "Li, 1998::Li1998\n",
      "Tsukamoto et al. 2002::Tsukamoto2002\n",
      "Hill et al. 2012::Hill2012\n",
      "Fu et al. 2008::Fu2008\n",
      "Rovira et al. 2011::Rovira2011\n",
      "Azcarate-Peril et al. 2011::Azcarate-Peril2011\n",
      "Moeller et al. 2007::Moeller2007\n",
      "Fenicia et al. 1999 and Dykes et al. 2015::Fenicia2015\n",
      "Peeters et al. 2019::Peeters2019\n"
     ]
    }
   ],
   "source": [
    "for k, v in cite_d.items():\n",
    "    if v not in bib_l:\n",
    "        print(k + '::'+ v)\n"
   ]
  },
  {
   "cell_type": "code",
   "execution_count": null,
   "id": "a1ef0c0a",
   "metadata": {},
   "outputs": [],
   "source": []
  }
 ],
 "metadata": {
  "kernelspec": {
   "display_name": "Python 3",
   "language": "python",
   "name": "python3"
  },
  "language_info": {
   "codemirror_mode": {
    "name": "ipython",
    "version": 3
   },
   "file_extension": ".py",
   "mimetype": "text/x-python",
   "name": "python",
   "nbconvert_exporter": "python",
   "pygments_lexer": "ipython3",
   "version": "3.6.10"
  }
 },
 "nbformat": 4,
 "nbformat_minor": 5
}
